{
 "cells": [
  {
   "cell_type": "code",
   "execution_count": 1,
   "metadata": {
    "scrolled": true
   },
   "outputs": [],
   "source": [
    "import numpy as np\n",
    "import pandas as pd\n",
    "import matplotlib.pyplot as plt\n",
    "\n",
    "# Playground variables\n",
    "\n",
    "numpy_pg = True\n",
    "numpy_pg_array_shuffle = False\n",
    "numpy_pg_slice = True\n",
    "\n",
    "f = open(\"agedetector_group_train.v1.0.txt\", \"r\")\n",
    "lines = []\n",
    "line = f.readline()\n",
    "while line:\n",
    "    lines.append(line)\n",
    "    line = f.readline()\n"
   ]
  },
  {
   "cell_type": "code",
   "execution_count": 2,
   "metadata": {
    "scrolled": true
   },
   "outputs": [],
   "source": [
    "# Load every record (label, [group ids]) into a list (datas)\n",
    "datas = []\n",
    "# group_18_24 = []\n",
    "# group_25_34 = []\n",
    "# group_35_44 = []\n",
    "# group_45_54 = []\n",
    "# group_55   = []\n",
    "for line in lines:\n",
    "#     print line\n",
    "    label = line.split(\" \", 1)[0][9:]\n",
    "    label = label.replace(\"-\", \"_\", 1)\n",
    "    label = label.replace(\"+\", \"\", 1)\n",
    "    label = \"group_\" + label    \n",
    "    # groups_str = lines[0].split(\" \", 1)[1]\n",
    "    groups_str = line.split(\" \", 1)[1]\n",
    "    groups_ = groups_str.split(\" \")\n",
    "    groups = [group.rstrip() for group in groups_]\n",
    "    datas.append((label, groups))"
   ]
  },
  {
   "cell_type": "code",
   "execution_count": 3,
   "metadata": {
    "scrolled": true
   },
   "outputs": [
    {
     "name": "stdout",
     "output_type": "stream",
     "text": [
      "[[9, 4, 5], [6, 7, 8], [0, 1, 2]]\n",
      "[[3, 4, 5], [6, 7, 8], [0, 1, 2]]\n"
     ]
    }
   ],
   "source": [
    "# np.random.shuffle(<list>) : Shuffle the fisrt axis of an numpy array\n",
    "if numpy_pg:\n",
    "    if numpy_pg_array_shuffle:\n",
    "        arr = np.array([[3, 4, 5],\n",
    "                        [6, 7, 8],\n",
    "                        [0, 1, 2]])\n",
    "        np.random.shuffle(arr)\n",
    "    if numpy_pg_slice:\n",
    "        slice = False\n",
    "        slice_only = True\n",
    "        clone_list = True\n",
    "        if slice:\n",
    "            if not slice_only:\n",
    "                arr = np.array([[3, 4, 5],\n",
    "                                [6, 7, 8],\n",
    "                                [0, 1, 2]])\n",
    "                # clone the array\n",
    "                arr_cloned = arr[:1].copy()\n",
    "                print (arr_cloned)\n",
    "                arr_cloned[0][0] = 9\n",
    "                print (arr_cloned)\n",
    "                print (arr)\n",
    "            else:\n",
    "                # slice the array, not cloned\n",
    "                arr_cloned = arr[:1]\n",
    "        \n",
    "        if clone_list:\n",
    "            # clone a list\n",
    "            arr = [[3, 4, 5],\n",
    "                   [6, 7, 8],\n",
    "                   [0, 1, 2]]\n",
    "            from copy import deepcopy\n",
    "            arr_cloned = deepcopy(arr)\n",
    "            arr_cloned[0][0] = 9\n",
    "            print (arr_cloned)\n",
    "            print (arr)"
   ]
  },
  {
   "cell_type": "code",
   "execution_count": 4,
   "metadata": {},
   "outputs": [
    {
     "name": "stdout",
     "output_type": "stream",
     "text": [
      "(32122L, 2L)\n",
      "(25697L, 2L)\n",
      "(6425L, 2L)\n"
     ]
    },
    {
     "data": {
      "text/plain": [
       "25697"
      ]
     },
     "execution_count": 4,
     "metadata": {},
     "output_type": "execute_result"
    }
   ],
   "source": [
    "# Split train-test set\n",
    "\n",
    "np.random.shuffle(datas)\n",
    "print (np.shape(datas))\n",
    "slice_index = int(np.shape(datas)[0] * 0.8)\n",
    "datas_train = datas[0:slice_index]\n",
    "datas_test = datas[slice_index:]\n",
    "\n",
    "print (np.shape(datas_train))\n",
    "print (np.shape(datas_test))\n",
    "slice_index"
   ]
  },
  {
   "cell_type": "code",
   "execution_count": 5,
   "metadata": {
    "scrolled": false
   },
   "outputs": [
    {
     "name": "stdout",
     "output_type": "stream",
     "text": [
      "13\n"
     ]
    }
   ],
   "source": [
    "# occurences of each group id for each labels\n",
    "group_list = {}\n",
    "group_list['group_18_24'] = {}\n",
    "group_list['group_25_34'] = {}\n",
    "group_list['group_35_44'] = {}\n",
    "group_list['group_45_54'] = {}\n",
    "group_list['group_55'] = {}\n",
    "for data in datas:\n",
    "    label = data[0]\n",
    "    for group in data[1]:\n",
    "        if group not in group_list[label]:\n",
    "            group_list[label][group] = 1\n",
    "        else:\n",
    "            group_list[label][group] += 1\n",
    "print (group_list['group_18_24']['1917715178553519'])"
   ]
  },
  {
   "cell_type": "code",
   "execution_count": 6,
   "metadata": {},
   "outputs": [],
   "source": [
    "# which people belongs to group with id=x?\n",
    "# given a group with id=y. Which people (id=x) are in that group? How to plot and visualize it?\n",
    "# y = f(x): Find all person id (x) which belongs to y\n",
    "\n",
    "# given a person with id=x. Which group they joined(id=y)? How to plot all person and visualize it?\n",
    "# x = f(y): Find all groups id (y) which x joined"
   ]
  },
  {
   "cell_type": "code",
   "execution_count": 7,
   "metadata": {
    "scrolled": true
   },
   "outputs": [
    {
     "data": {
      "text/plain": [
       "[<matplotlib.lines.Line2D at 0xe40f668>]"
      ]
     },
     "execution_count": 7,
     "metadata": {},
     "output_type": "execute_result"
    },
    {
     "data": {
      "image/png": "[encoded data removed]",
      "text/plain": [
       "<Figure size 432x288 with 1 Axes>"
      ]
     },
     "metadata": {
      "needs_background": "light"
     },
     "output_type": "display_data"
    }
   ],
   "source": [
    "x = []\n",
    "y = []\n",
    "i = -1\n",
    "for data in datas:\n",
    "    if i >= 15:\n",
    "        break\n",
    "    label = data[0]\n",
    "    i += 1\n",
    "    for group in data[1]:\n",
    "        x.append(i)\n",
    "        y.append(group)\n",
    "plt.scatter(y[0], 'bo', label='visualization')\n",
    "plt.plot(x, y, 'bo', ms = 1)\n",
    "# print datas[2][1]\n"
   ]
  },
  {
   "cell_type": "code",
   "execution_count": 8,
   "metadata": {},
   "outputs": [],
   "source": [
    "# print (group_list['group_18_24']['1917715178553519'])\n",
    "# print (group_list['group_25_34']['1917715178553519'])\n",
    "# print (group_list['group_35_44']['1917715178553519'])\n",
    "# print (group_list['group_45_54']['1917715178553519'])\n",
    "# print (group_list['group_55']['1917715178553519'])\n",
    "# max_count, group_label = max([(group_list[key]['1917715178553519'], key) for key in group_list.keys() if '1917715178553519' in group_list[key]])\n",
    "# print (max_count, group_label)\n",
    "\n",
    "# group_label = max([group_list[key]['1917715178553519'] for key in group_list.keys() if ])\n",
    "# print group_label\n",
    "\n",
    "# _max = 9991917715178553519\n",
    "# print (max([(35, '25'), (45, '65'), (None, None)])) # (45, '65')\n",
    "# print (min([(35, '25'), (45, '65'), (_max, None)])) # (35, '25')\n",
    "\n",
    "\n",
    "group_cluster = {}\n",
    "group_cluster['group_18_24'] = []\n",
    "group_cluster['group_25_34'] = []\n",
    "group_cluster['group_35_44'] = []\n",
    "group_cluster['group_45_54'] = []\n",
    "group_cluster['group_55'] = []\n",
    "group_id_visited = {}\n",
    "for data in datas:\n",
    "    label = data[0]\n",
    "    for group_id in data[1]:\n",
    "        if group_id not in group_id_visited:\n",
    "            max_count, group_label = max([(group_list[key][group_id], key) for key in group_list.keys() if group_id in group_list[key]])\n",
    "            group_cluster[group_label].append(group_id)\n",
    "            group_id_visited[group_id] = 1\n",
    "import json\n",
    "\n",
    "for group_age in group_cluster.keys():\n",
    "    file = './' + group_age + '.json'\n",
    "    with open(file, 'w') as f:\n",
    "        for data in group_cluster[group_age]:\n",
    "            json.dump(data, f)"
   ]
  },
  {
   "cell_type": "code",
   "execution_count": 14,
   "metadata": {},
   "outputs": [],
   "source": [
    "# Calculate percentage of ocurrences of 5 label for each group id\n",
    "label_occurence_fe_group_id = []\n",
    "i = 0\n",
    "for group_id in group_id_visited:\n",
    "    i += 1\n",
    "    if i > 10: # Calculate the first 10 label only\n",
    "        break\n",
    "    total_count = 0\n",
    "    label_occurence = []\n",
    "    for group_label in group_list.keys():\n",
    "        if group_id in group_list[group_label]:\n",
    "            total_count += group_list[group_label][group_id]\n",
    "    for group_label in group_list.keys():\n",
    "        if group_id in group_list[group_label]:\n",
    "            label_occurence.append(group_list[group_label][group_id] / total_count)\n",
    "        else:\n",
    "            label_occurence.append(float(0))\n",
    "    label_occurence_fe_group_id.append(tuple(label_occurence))\n",
    "file = './' + 'group_label_occurence_for_each_group_id' + '.json'\n",
    "with open(file, 'w') as f:\n",
    "    for data in group_cluster[group_age]:\n",
    "        json.dump(label_occurence_fe_group_id, f)"
   ]
  },
  {
   "cell_type": "code",
   "execution_count": null,
   "metadata": {},
   "outputs": [],
   "source": []
  }
 ],
 "metadata": {
  "kernelspec": {
   "display_name": "Python 2",
   "language": "python",
   "name": "python2"
  },
  "language_info": {
   "codemirror_mode": {
    "name": "ipython",
    "version": 2
   },
   "file_extension": ".py",
   "mimetype": "text/x-python",
   "name": "python",
   "nbconvert_exporter": "python",
   "pygments_lexer": "ipython2",
   "version": "2.7.16"
  }
 },
 "nbformat": 4,
 "nbformat_minor": 2
}
